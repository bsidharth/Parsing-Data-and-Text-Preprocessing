{
 "cells": [
,
  {
   "cell_type": "markdown",
   "metadata": {},
   "source": [
    "## Task 1: Parsing Raw Text Files"
   ]
  },
  {
   "cell_type": "markdown",
   "metadata": {},
   "source": [
    "Environment: Python 3.6.5 and Jupyter notebook\n",
    "\n",
    "\n",
    "Libraries used:\n",
    "\n",
    "re - library for regular expression operations\n",
    "json - library for JSON operations"
   ]
  },
  {
   "cell_type": "markdown",
   "metadata": {},
   "source": [
    "## 1. Introduction"
   ]
  },
  {
   "cell_type": "markdown",
   "metadata": {},
   "source": [
    "In the Task 1 of the assignment, we need to extract data from unstructured text files, and tranform that data int structured XML and JSON format. The raw dataset given for this assignment is a collection of job advertisement. We need to design an efficient regular expression to extract data from the advertisments."
   ]
  },
  {
   "cell_type": "markdown",
   "metadata": {},
   "source": [
    "## 2.  Import libraries "
   ]
  },
  {
   "cell_type": "code",
   "execution_count": 2,
   "metadata": {},
   "outputs": [],
   "source": [
    "import re\n",
    "import json "
   ]
  },
  {
   "cell_type": "markdown",
   "metadata": {},
   "source": [
    "## 3. Parsing the data"
   ]
  },
  {
   "cell_type": "markdown",
   "metadata": {},
   "source": [
    "The raw data given for this task in is the following a key:value format. The keys are following a repetitive pattern for each set of advertisements and can be used to identify each corresponding values.\n",
    "\n",
    "In this task, we need to go through each line in the file checking for the pattern defined by the regular expression for each key. Once the key is identifid the value part is extracted and saved to a temporary python Dictionary. While extracting the value part we need to make sure that the multi-lined values are read completely. 'completeString()' performs the multi-line reading, in this funtion identifying a key we will be performing multiple read till the next key is encountered. The function 'check(line)' will help us to check for the next key. For some attributes line job qualification and job_reponsibilites, there will be a list of values, whcih has to be extracted separately and stored as a list, completeList() function enables us to perform this functionality."
   ]
  },
  {
   "cell_type": "code",
   "execution_count": 3,
   "metadata": {},
   "outputs": [],
   "source": [
    "#The function checks if the current line contains a key value\n",
    "def check(line):\n",
    "    #Regular expression for all the keys, All the key values are followed by a \":\"\n",
    "    reg_string = '(ID|DL|DEAD(_)*LINES*|DESC|DESCRIPTIONS*|INFO|ABOUT|COMPANY|SAL(ARY)*|REMUNERATION|LOC(S|ATION)*|QUALIF(ICATION|S)*|PROC(S|EDURE)*|(START|_)*DA(TE|S)*|START|TITLE(S)*|TTL|_T|RESP(ONSIBILIT(Y|IES)*|S)*):'\n",
    "    #regular expression for the alternative key values which needed to be skipped.\n",
    "    sec_reg = '(REMUNERATION|(START|_)*DA(TE|S)*|START)/'\n",
    "    #re.search() will check the full line to find a pattern match\n",
    "    if(re.search(reg_string,line,re.I)):\n",
    "        return False\n",
    "    elif(re.search(sec_reg,line,re.I)):\n",
    "        return False\n",
    "    return True"
   ]
  },
  {
   "cell_type": "code",
   "execution_count": 4,
   "metadata": {},
   "outputs": [],
   "source": [
    "# The function combines the multi-lined values to a single string\n",
    "def completeString(raw_file,line):\n",
    "    while(True):\n",
    "            prev_pos = raw_file.tell() #tell() will give us the current position of the file pointe raw_file\n",
    "            raw_line = raw_file.readline() # reading the next line\n",
    "            if not check(raw_line): #checks if the line has any key value in it using check() method\n",
    "                raw_file.seek(prev_pos) #if there is a new key value, set the filepointer back to position using seek()\n",
    "                break  #and break from the loop\n",
    "            elif(re.match('------------------------------',raw_line)): #the pattern specified here is used as the boundary for each advertisements, useful when the last key mentioned has no value\n",
    "                raw_file.seek(prev_pos) #filepointer is repositioned to old position using seek()\n",
    "                break\n",
    "            line+=' '+raw_line.replace('\\n','').strip() #if the line has no key valuem we will add that line to the existing string after removing the line breaker and extra whitespaces\n",
    "    return line"
   ]
  },
  {
   "cell_type": "code",
   "execution_count": 5,
   "metadata": {},
   "outputs": [],
   "source": [
    "# The function  stores multiple values into a list; ex:  job responsibilities and required qualifications\n",
    "def completeList(raw_file,line,array):\n",
    "    while(True):\n",
    "        last_pos = raw_file.tell() #tell() will give us the current position of the file pointer raw_file\n",
    "        raw_line = raw_file.readline() # reading the next line\n",
    "        if (not check(raw_line) and raw_line[0][0] != '-'):  #checks if the line has any key value using check() and that the line doesn't start with -\n",
    "            raw_file.seek(last_pos)  #if there is a new key value, set the filepointer back to position using seek()\n",
    "            break  #and break from the loop\n",
    "        elif(raw_line[0][0] != '-'): #if the line doesn't start with a '-' it means the previous line is a multiplined value\n",
    "            line+=raw_line.replace('\\n','').strip()  #we will update the previous value with the current value, after removing the line break and extra whitespaces.\n",
    "        else:\n",
    "            #else clause will be taken when a new line is found with '-', ie a new element to the list\n",
    "            if(re.match('------------------------------',raw_line)): #the pattern specifies here is used as the boundary for each advertisements, useful when the last key mentioned has no value\n",
    "                raw_file.seek(last_pos)  #filepointer is repositioned to old position using seek()\n",
    "                break\n",
    "            array.append(line) #append the prvious complete string to the existing list called array\n",
    "            line = raw_line[1:].replace('\\n','').strip() # save the current line to a variable after stripping and removing the line break.\n",
    "    array.append(line)\n",
    "    return array"
   ]
  },
  {
   "cell_type": "markdown",
   "metadata": {},
   "source": [
    "## 4.  Generating Regular expression:\n",
    "\n",
    "While operating with regular expression for  searching purpose we are using re.search(), since search will compare the entire string for the  pattern defined. Also we are using re.I, to make the comparison case insensitive.\n",
    "\n",
    "ID:                           - checks for the ID followed by ':' in the string . It will look up for a ID: or id:\n",
    "\n",
    "(DL|DEAD(_)*LINES*):          - checks for all the combinations of the key deadline, it compares for scenarios where DL is followed by : in both upper and lower cases, and combination of word starting with DEAD  followed by LINE OR LINES and with or without a _ between them and followed by : in both lower and upper cases.\n",
    "\n",
    "(DESC|DESCRIPTIONS*):           - checks for all the combinations of key with DESC followed by : or DESCRIPTION: or DESCRIPTIONS: in both lower and upper cases.\n",
    "\n",
    "(INFO|COMPANY|ABOUT):           - checks for the combinations of keys that ends with INFO: or COMAPNY: or ABOUT: in both upper and lower cases\n",
    "\n",
    "(SAL(ARY)*|REMUNERATION):       - the salary tag is defined using the words sal,salarayand renumeration in the data, so we are using any combinations of SAL:,SALARY: AND REMUNERATION:\n",
    "\n",
    "(LOC(S|ATION)*                  - this expression will check for job location tag is always ending with LOCS: or LOCATION: or LOCATIONS:\n",
    "\n",
    "(QUALIF(ICATION|S)*|QUAL(S)*):  - the expression checks for combinations ending with QUALIFICATION: or QUALIFICATINS: or QUAL or QUALS in both upper an dlower cases\n",
    "\n",
    "(PROC(S|EDURE)*):               - checks for combinations ending with PROCS: or PROC: or PROCEDURE: or PROCEDURES in both upper and lower cases.\n",
    "\n",
    "((START|_)*DA(TE|S)*):|(START): -checks fr combinations staring with or with out START or _ or both follwed by DA: OR DATE: OR DATES: and a scenarios where DATE is followed by START:\n",
    "\n",
    "(TITLE(S)*|TTL|_T):            - checks for different combintion depicting title, either starting with TITLE and ending with :, or TITLES: or just TTL: or _T:\n",
    "\n",
    "(RESP(ONSIBILIT(Y|IES)*|S)*):  - checks for all the combiantions starting with RESP, it will BE cheking for words ending with  RESP: or RESPS: OR RESPONSIBILITIES: or RESPONSIBILITY:\n"
   ]
  },
  {
   "cell_type": "markdown",
   "metadata": {},
   "source": [
    "## 5. Generating the json file from raw data"
   ]
  },
  {
   "cell_type": "code",
   "execution_count": 6,
   "metadata": {},
   "outputs": [],
   "source": [
    "#The function reads the raw data line by line and convert it into a json file.\n",
    "def raw_data_to_json():\n",
    "    raw_file = open('29330750.dat','r') #raw_file will be a file pointer to the newly opened file\n",
    "    #variables to be used\n",
    "    json_data = {}\n",
    "    listing = []\n",
    "    count = 0\n",
    "    key_value = ''\n",
    "    \n",
    "    #the end of the file is calculated using seek() and tell()\n",
    "    raw_file.seek(0,2) # this will take the filepointer to the end of the file.\n",
    "    EOF = raw_file.tell() #tell() fetches the position of the pointer and saves it to EOF\n",
    "    raw_file.seek(0,0)#sets the filepointer back to the begining of the file for processing\n",
    "    \n",
    "    while(True):\n",
    "        raw_line = raw_file.readline() #reading the file line by line\n",
    "        if(re.match('------------------------------',raw_line)): #checks for the end of each set of data\n",
    "            listing.append(json_data) #appends the json dictionary to a existing list of json\n",
    "            json_data = {} #resetting the json dictionary\n",
    "            if(raw_file.tell() == EOF): #if the file pointer is at EOF \n",
    "                break #break and exit the loop\n",
    "        elif(re.search('ID:',raw_line,re.I)): #case insentitive regular expression search on the line\n",
    "            key_value = '_id' #key value for the json is saved\n",
    "            json_data[key_value] = str.split(raw_line,':')[1].replace('\\n','').strip() #add the _id value to the json\n",
    "            \n",
    "        elif(re.search('(DL|DEAD(_)*LINES*):',raw_line,re.I)): #case insentitive regular expression search on the line\n",
    "            key_value = 'application_deadline'  #key value for the json is saved\n",
    "            deadLine = str.split(raw_line,':')[1].replace('\\n','').strip()\n",
    "            json_data[key_value] = completeString(raw_file,deadLine) #add the completeString to json\n",
    "            \n",
    "        elif(re.search('(DESC|DESCRIPTIONS*):',raw_line,re.I)):  #case insentitive regular expression search on the line\n",
    "            key_value = 'job_description'  #key value for the json is saved\n",
    "            description = str.split(raw_line,':')[1].replace('\\n','').strip() #split the line at the : and add teh value part to a variable after stripping the line break and extra whitespaces\n",
    "            json_data[key_value] = completeString(raw_file,description) #add the completeString to json\n",
    "            \n",
    "        elif(re.search('(INFO|COMPANY|ABOUT):',raw_line,re.I)):  #case insentitive regular expression search on the line\n",
    "            key_value= 'about_company'  #key value for the json is saved\n",
    "            info = str.split(raw_line,':')[1].replace('\\n','').strip() #split the line at the : and add the value part to a variable after stripping the line break and extra whitespaces\n",
    "            json_data[key_value] = completeString(raw_file,info) #add the completeString to json\n",
    "            \n",
    "        elif(re.search('(SAL(ARY)*|REMUNERATION):',raw_line,re.I)):  #case insentitive regular expression search on the line\n",
    "            key_value = 'job_salary'  #key value for the json is saved\n",
    "            sal = str.split(raw_line,':')[1].replace('\\n','').strip() #split the line at the : and add the value part to a variable after stripping the line break and extra whitespaces\n",
    "            json_data[key_value] = completeString(raw_file,sal) #add the completeString to json\n",
    "            \n",
    "        elif(re.search('(LOC(S|ATION)*):',raw_line,re.I)):  #case insentitive regular expression search on the line\n",
    "            key_value = 'job_location'  #key value for the json is saved\n",
    "            loc = str.split(raw_line,':')[1].replace('\\n','').strip() #split the line at the : and add the value part to a variable after stripping the line break and extra whitespaces\n",
    "            json_data[key_value] = completeString(raw_file,loc) #add the completeString to json\n",
    "            \n",
    "        elif(re.search('(QUALIF(ICATION|S)*|QUAL(S)*):',raw_line,re.I)):  #case insentitive regular expression search on the line\n",
    "            key_value= 'required_qualifications'  #key value for the json is saved\n",
    "            qualification = []\n",
    "            qualList = str.split(raw_line,':') #spliting the string at :\n",
    "            if(len(qualList)>1): #checking if there is any value at the same line as the key\n",
    "                qual = qualList[1][1:].replace('\\n','').strip() #if yes split the line at the : and add the value part to a variable after stripping the line break and extra whitespaces\n",
    "            else:\n",
    "                qual = '' #if not, the variable is currently emmpty\n",
    "            json_data[key_value] = {'qualification':completeList(raw_file,qual,qualification)} #add the complete list to json\n",
    "            \n",
    "        elif(re.search('(PROC(S|EDURE)*):',raw_line,re.I)):  #case insentitive regular expression search on the line\n",
    "            key_value = 'application_procedure'  #key value for the json is saved\n",
    "            proc = str.split(raw_line,':')[1].replace('\\n','').strip() #split the line at the : and add the value part to a variable after stripping the line break and extra whitespaces\n",
    "            json_data[key_value] = completeString(raw_file,proc) #add the completeString to json\n",
    "            \n",
    "        elif(re.search('((START|_)*DA(TE|S)*):|(START):',raw_line,re.I)):\n",
    "            key_value = 'start_date'  #key value for the json is saved\n",
    "            if not re.search('CANDIDATE(S)*:',raw_line,re.I):\n",
    "                dates = completeString(raw_file,str.split(raw_line,':')[1].replace('\\n','').strip()) #calls teh completString funtion ueing the raw_line after spliting the line at the : and add the value part to a variable after stripping the line break and extra whitespaces\n",
    "                dates = str.split(dates,'\\\"')[0] #split the string at doublt-quote to remove anything ither than the date\n",
    "                json_data[key_value] = str.split(dates,'.')[0] #add the completeString to json\n",
    "            \n",
    "        elif(re.search('(TITLE(S)*|TTL|_T):',raw_line,re.I)):  #case insentitive regular expression search on the line\n",
    "            key_value = 'job_title'  #key value for the json is saved\n",
    "            titles = str.split(raw_line,':')[1].replace('\\n','').strip() #split the line at the : and add the value part to a variable after stripping the line break and extra whitespaces\n",
    "            json_data[key_value] = completeString(raw_file,titles) #add the completeString to json\n",
    "            \n",
    "        elif(re.search('(RESP(ONSIBILIT(Y|IES)*|S)*):',raw_line,re.I)):  #case insentitive regular expression search on the line\n",
    "            key_value= 'job_responsibilities'  #key value for the json is saved\n",
    "            responsibilities = []\n",
    "            respList = str.split(raw_line,':')  #spliting the string at :\n",
    "            if(len(respList)>1): #checking if there is any value at the same line as the key\n",
    "                resp = respList[1][1:].replace('\\n','').strip() #if yes split the line at the : and add the value part to a variable after stripping the line break and extra whitespaces\n",
    "            else:\n",
    "                resp = '' #if not, the variable is currently emmpty\n",
    "            json_data[key_value] = {'responsibility':completeList(raw_file,resp,responsibilities)} #add the complete list to json\n",
    "            \n",
    "    return {'listings':{'listing':listing}} #returning the resulting json formed"
   ]
  },
  {
   "cell_type": "markdown",
   "metadata": {},
   "source": [
    "## 6. Converting the above json file to xml"
   ]
  },
  {
   "cell_type": "code",
   "execution_count": 8,
   "metadata": {},
   "outputs": [],
   "source": [
    "#The function converts a json to xml\n",
    "def json2xml(listings, xml_padding=\"\"):\n",
    "    result_list = list() #creating an empty list\n",
    "    result_list.append('%s<%s>'%(xml_padding,'listings')) # adding the first opening <listings> tag to the list\n",
    "    for json_data in listings['listing']: #parsing through all the elemets in the lsit of json\n",
    "        for tag_name in json_data: #parsing through each json elemet in teh above list\n",
    "            sub_obj = json_data[tag_name] #fetching teh value of current tag\n",
    "            \n",
    "            if(tag_name == '_id'): #if it is the first key in the json\n",
    "                result_list.append('%s<%s id=%s>' % (xml_padding,'listing',sub_obj)) #id value is added as a attribute to the <listing> tag\n",
    "            elif(tag_name == 'required_qualifications' or tag_name == 'job_responsibilities'): #checking for the tags with lists as its values\n",
    "                if(tag_name == 'required_qualifications'):\n",
    "                    sub_tag = 'qualification'\n",
    "                elif(tag_name == 'job_responsibilities'):\n",
    "                    sub_tag = 'responsibility'\n",
    "                result_list.append('%s<%s>'%(xml_padding+'\\t',tag_name)) #creating the parent tag\n",
    "                for each in sub_obj[sub_tag]: #looping through the elemets in the list\n",
    "                    result_list.append('%s<%s>%s</%s>'%(xml_padding+'\\t\\t',sub_tag,each,sub_tag)) #making separate tags for each element in the list\n",
    "                result_list.append('%s</%s>' %(xml_padding+'\\t',tag_name))#closing parent tag\n",
    "            else:\n",
    "               result_list.append('%s<%s>%s</%s>'%(xml_padding+'\\t',tag_name,sub_obj,tag_name)) #creating xml tags for all the single string values\n",
    "               \n",
    "        result_list.append('%s</%s>' % (xml_padding,'listing')) #closing the <listing> tag\n",
    "    result_list.append('%s</%s>' %(xml_padding,'listings')) #closing the <listings> tag\n",
    "    \n",
    "    return \"\\n\".join(result_list) #join all the elemnents in the list with a line break"
   ]
  },
  {
   "cell_type": "markdown",
   "metadata": {},
   "source": [
    "## 7. Writing the data into the files"
   ]
  },
  {
   "cell_type": "code",
   "execution_count": 9,
   "metadata": {},
   "outputs": [],
   "source": [
    "listings = raw_data_to_json() #call to convert raw data to json    \n",
    "with open('29330750.json','w') as fp:  #dumping the json into a json file\n",
    "    json.dump(listings,fp) \n",
    "    \n",
    "with open('29330750.xml','w') as fp: #writing the xml to a xml file\n",
    "    fp.write(json2xml(listings['listings'])) #calling method to convert json to xml"
   ]
  }
 ],
 "metadata": {
  "kernelspec": {
   "display_name": "Python 3",
   "language": "python",
   "name": "python3"
  },
  "language_info": {
   "codemirror_mode": {
    "name": "ipython",
    "version": 3
   },
   "file_extension": ".py",
   "mimetype": "text/x-python",
   "name": "python",
   "nbconvert_exporter": "python",
   "pygments_lexer": "ipython3",
   "version": "3.6.5"
  }
 },
 "nbformat": 4,
 "nbformat_minor": 2
}
